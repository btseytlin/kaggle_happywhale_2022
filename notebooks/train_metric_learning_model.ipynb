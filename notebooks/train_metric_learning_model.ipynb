{
 "cells": [
  {
   "cell_type": "markdown",
   "metadata": {
    "collapsed": true,
    "pycharm": {
     "name": "#%% md\n"
    }
   },
   "source": [
    "# Imports"
   ]
  },
  {
   "cell_type": "code",
   "execution_count": null,
   "outputs": [],
   "source": [
    "import timm\n",
    "\n",
    "import wandb\n",
    "import pandas as pd\n",
    "import numpy as np\n",
    "import plotly.express as px\n",
    "import torch\n",
    "import wandb\n",
    "from matplotlib import pyplot as plt"
   ],
   "metadata": {
    "collapsed": false,
    "pycharm": {
     "name": "#%%\n",
     "is_executing": true
    }
   }
  },
  {
   "cell_type": "markdown",
   "source": [
    "# Kaggle cell"
   ],
   "metadata": {
    "collapsed": false,
    "pycharm": {
     "name": "#%% md\n"
    }
   }
  },
  {
   "cell_type": "code",
   "execution_count": null,
   "outputs": [],
   "source": [
    "# !pip install wandb timm numpy --upgrade\n",
    "# !rm -r kaggle_happywhale_2022\n",
    "# !git clone https://github.com/btseytlin/kaggle_happywhale_2022.git\n",
    "# import sys\n",
    "# sys.path.append('kaggle_happywhale_2022')\n",
    "#\n",
    "# import wandb\n",
    "#\n",
    "# try:\n",
    "#     from kaggle_secrets import UserSecretsClient\n",
    "#     user_secrets = UserSecretsClient()\n",
    "#     api_key = user_secrets.get_secret(\"WANDB\")\n",
    "#     wandb.login(key=api_key)\n",
    "#     anonymous = None\n",
    "# except:\n",
    "#     anonymous = \"must\"\n",
    "#     wandb.login(anonymous=anonymous)\n",
    "#     print('wand secret missing')"
   ],
   "metadata": {
    "collapsed": false,
    "pycharm": {
     "name": "#%%\n",
     "is_executing": true
    }
   }
  },
  {
   "cell_type": "code",
   "execution_count": null,
   "outputs": [],
   "source": [
    "from happywhale import (ImageDataMoodule,\n",
    "                        ImageBackbone,\n",
    "                        MetricLearner,\n",
    "                        seed_torch,\n",
    "                        load_train_test_dfs,\n",
    "                        get_cv_splits)"
   ],
   "metadata": {
    "collapsed": false,
    "pycharm": {
     "name": "#%%\n",
     "is_executing": true
    }
   }
  },
  {
   "cell_type": "code",
   "execution_count": null,
   "outputs": [],
   "source": [
    "%matplotlib inline"
   ],
   "metadata": {
    "collapsed": false,
    "pycharm": {
     "name": "#%%\n",
     "is_executing": true
    }
   }
  },
  {
   "cell_type": "code",
   "execution_count": null,
   "outputs": [],
   "source": [
    "%load_ext autoreload\n",
    "%autoreload 2"
   ],
   "metadata": {
    "collapsed": false,
    "pycharm": {
     "name": "#%%\n",
     "is_executing": true
    }
   }
  },
  {
   "cell_type": "code",
   "execution_count": null,
   "outputs": [],
   "source": [
    "# seed_torch(42)"
   ],
   "metadata": {
    "collapsed": false,
    "pycharm": {
     "name": "#%%\n",
     "is_executing": true
    }
   }
  },
  {
   "cell_type": "markdown",
   "source": [
    "# Config"
   ],
   "metadata": {
    "collapsed": false,
    "pycharm": {
     "name": "#%% md\n"
    }
   }
  },
  {
   "cell_type": "code",
   "execution_count": null,
   "outputs": [],
   "source": [
    "OFFLINE = False\n",
    "EXP_NAME = 'metric_learning'\n",
    "tags = ['dataset_base_256', 'backbone_efficientnet_b0', 'metric_learning', 'contrastive_loss']\n",
    "DEVICE = 'cuda' if torch.cuda.is_available() else 'cpu'\n",
    "\n",
    "\n",
    "TRAIN_IMG_DIR = '../input/jpeg-happywhale-256x256/train_images-256-256/train_images-256-256'\n",
    "TEST_IMG_DIR = '../input/jpeg-happywhale-256x256/test_images-256-256/test_images-256-256'\n",
    "TRAIN_CSV_PATH = '../input/happy-whale-and-dolphin/train.csv'\n",
    "TEST_CSV_PATH = '../input/happy-whale-and-dolphin/sample_submission.csv'\n",
    "\n",
    "\n",
    "\n",
    "BACKBONE = 'efficientnet_b0'\n",
    "LR = 1e-3\n",
    "BACKBONE_EMBEDDING_DIM = 1000\n",
    "EMBEDDING_SIZE = 16\n",
    "\n",
    "N_EPOCHS = 30\n",
    "BATCH_SIZE = 2\n",
    "NUM_WORKERS = 2\n",
    "\n",
    "\n",
    "TRAINER_KWARGS = dict(\n",
    "    max_epochs=N_EPOCHS,\n",
    "    devices=\"auto\",\n",
    "    accelerator=\"auto\",\n",
    "    gradient_clip_val=1,\n",
    "    accumulate_grad_batches=2,\n",
    "    # stochastic_weight_avg=True,\n",
    "    # fast_dev_run=True,\n",
    ")\n",
    "\n",
    "if DEVICE != 'cpu':\n",
    "    TRAINER_KWARGS.update(\n",
    "        dict(\n",
    "            # amp_backend='apex',\n",
    "            # amp_level='O2',\n",
    "            precision=16,\n",
    "        )\n",
    "    )"
   ],
   "metadata": {
    "collapsed": false,
    "pycharm": {
     "name": "#%%\n",
     "is_executing": true
    }
   }
  },
  {
   "cell_type": "markdown",
   "source": [
    "# Local overrides"
   ],
   "metadata": {
    "collapsed": false,
    "pycharm": {
     "name": "#%% md\n"
    }
   }
  },
  {
   "cell_type": "code",
   "execution_count": null,
   "outputs": [],
   "source": [
    "TRAINER_KWARGS['fast_dev_run'] = 5\n",
    "TRAIN_IMG_DIR = '../data/images_128/train_images-128-128'\n",
    "TEST_IMG_DIR = '../data/images_128/test_images-128-128'\n",
    "TRAIN_CSV_PATH = '../data/train.csv'\n",
    "TEST_CSV_PATH = '../data/test.csv'\n",
    "EXP_NAME = 'LOCAL_TEST'\n",
    "OFFLINE = True"
   ],
   "metadata": {
    "collapsed": false,
    "pycharm": {
     "name": "#%%\n",
     "is_executing": true
    }
   }
  },
  {
   "cell_type": "markdown",
   "source": [
    "# CV: split and prepare datamodules"
   ],
   "metadata": {
    "collapsed": false,
    "pycharm": {
     "name": "#%% md\n"
    }
   }
  },
  {
   "cell_type": "code",
   "execution_count": null,
   "outputs": [],
   "source": [
    "train_df, test_df = load_train_test_dfs(\n",
    "    train_csv_path=TRAIN_CSV_PATH,\n",
    "    test_csv_path=TEST_CSV_PATH,\n",
    "    train_images_path=TRAIN_IMG_DIR,\n",
    "    test_images_path=TEST_IMG_DIR,\n",
    ")\n",
    "print(train_df.shape, test_df.shape)"
   ],
   "metadata": {
    "collapsed": false,
    "pycharm": {
     "name": "#%%\n",
     "is_executing": true
    }
   }
  },
  {
   "cell_type": "code",
   "execution_count": null,
   "outputs": [],
   "source": [
    "cv_splits = get_cv_splits(train_df)"
   ],
   "metadata": {
    "collapsed": false,
    "pycharm": {
     "name": "#%%\n",
     "is_executing": true
    }
   }
  },
  {
   "cell_type": "code",
   "execution_count": null,
   "outputs": [],
   "source": [
    "len(cv_splits[0].train), len(cv_splits[0].val), len(cv_splits[0].test)"
   ],
   "metadata": {
    "collapsed": false,
    "pycharm": {
     "name": "#%%\n",
     "is_executing": true
    }
   }
  },
  {
   "cell_type": "code",
   "execution_count": null,
   "outputs": [],
   "source": [
    "split_datamodules = []\n",
    "for split in cv_splits:\n",
    "    split_train_df = train_df.iloc[split.train]\n",
    "    split_val_df = train_df.iloc[split.val]\n",
    "    split_test_df = train_df.iloc[split.test]\n",
    "    datamodule = ImageDataMoodule(\n",
    "        train_df=split_train_df,\n",
    "        val_df=split_val_df,\n",
    "        test_df=split_test_df,\n",
    "        batch_size=BATCH_SIZE,\n",
    "        num_workers=NUM_WORKERS,\n",
    "        sampler='m_per_class',\n",
    "    )\n",
    "    datamodule.setup()\n",
    "    split_datamodules.append(datamodule)"
   ],
   "metadata": {
    "collapsed": false,
    "pycharm": {
     "name": "#%%\n",
     "is_executing": true
    }
   }
  },
  {
   "cell_type": "markdown",
   "source": [
    "# Train model"
   ],
   "metadata": {
    "collapsed": false,
    "pycharm": {
     "name": "#%% md\n"
    }
   }
  },
  {
   "cell_type": "code",
   "execution_count": null,
   "outputs": [],
   "source": [
    "models = []\n",
    "for i, datamodule in enumerate(split_datamodules):\n",
    "    backbone = ImageBackbone(model_name=BACKBONE)\n",
    "    model = MetricLearner(\n",
    "        backbone=backbone,\n",
    "        lr=LR,\n",
    "        num_labels=len(datamodule.label_encoder.classes_),\n",
    "        num_training_steps=len(datamodule.train)//datamodule.batch_size * N_EPOCHS,\n",
    "        trainer_kwargs=TRAINER_KWARGS,\n",
    "        backbone_embedding_dim=BACKBONE_EMBEDDING_DIM,\n",
    "        embedding_size=EMBEDDING_SIZE,\n",
    "        offline=OFFLINE,\n",
    "    )\n",
    "\n",
    "    run = wandb.init(\n",
    "        project='kaggle_happywhale',\n",
    "        name=EXP_NAME + f'_fold_{i}',\n",
    "        tags=tags,\n",
    "    )\n",
    "\n",
    "    model.fit(datamodule)\n",
    "    model.test(datamodule)\n",
    "    models.append(model.cpu())\n",
    "    run.finish()\n"
   ],
   "metadata": {
    "collapsed": false,
    "pycharm": {
     "name": "#%%\n",
     "is_executing": true
    }
   }
  },
  {
   "cell_type": "code",
   "execution_count": null,
   "outputs": [],
   "source": [],
   "metadata": {
    "collapsed": false,
    "pycharm": {
     "name": "#%%\n",
     "is_executing": true
    }
   }
  }
 ],
 "metadata": {
  "kernelspec": {
   "display_name": "Python 3",
   "language": "python",
   "name": "python3"
  },
  "language_info": {
   "codemirror_mode": {
    "name": "ipython",
    "version": 2
   },
   "file_extension": ".py",
   "mimetype": "text/x-python",
   "name": "python",
   "nbconvert_exporter": "python",
   "pygments_lexer": "ipython2",
   "version": "2.7.6"
  },
  "pycharm": {
   "stem_cell": {
    "cell_type": "raw",
    "source": [
     "\n"
    ],
    "metadata": {
     "collapsed": false
    }
   }
  }
 },
 "nbformat": 4,
 "nbformat_minor": 0
}